{
  "nbformat": 4,
  "nbformat_minor": 0,
  "metadata": {
    "colab": {
      "name": "Exercise 3 - Question.ipynb",
      "version": "0.3.2",
      "provenance": [],
      "collapsed_sections": []
    },
    "kernelspec": {
      "name": "python3",
      "display_name": "Python 3"
    }
  },
  "cells": [
    {
      "cell_type": "code",
      "metadata": {
        "id": "sfQRyaJWAIdg",
        "colab_type": "code",
        "colab": {
          "base_uri": "https://localhost:8080/",
          "height": 1088
        },
        "outputId": "8d8b3feb-ff9e-4bbc-8716-b4b2ec9ab0a8"
      },
      "source": [
        "import tensorflow as tf\n",
        "\n",
        "# YOUR CODE STARTS HERE\n",
        "class myCallback(tf.keras.callbacks.Callback):\n",
        "  def on_epoch_end(self, epoch, logs={}):\n",
        "    if(logs.get('acc')>0.99):\n",
        "      print(\"\\nReached 60% accuracy so cancelling training!\")\n",
        "      self.model.stop_training = True\n",
        "callbacks=myCallback()\n",
        "\n",
        "# YOUR CODE ENDS HERE\n",
        "\n",
        "mnist = tf.keras.datasets.mnist\n",
        "(training_images, training_labels), (test_images, test_labels) = mnist.load_data()\n",
        "training_images=training_images.reshape(60000,28,28,1)\n",
        "training_images=training_images/255.0\n",
        "test_images=test_images.reshape(10000,28,28,1)\n",
        "test_images=test_images/255.0\n",
        "\n",
        "\n",
        "# YOUR CODE STARTS HERE\n",
        "\n",
        "\n",
        "# YOUR CODE ENDS HERE\n",
        "\n",
        "model = tf.keras.models.Sequential([\n",
        "    tf.keras.layers.Conv2D(64,(3,3),activation='relu',input_shape=(28,28,1)),\n",
        "    tf.keras.layers.MaxPooling2D(2,2),\n",
        "    tf.keras.layers.Conv2D(64,(2,2),activation='relu'),\n",
        "    tf.keras.layers.MaxPooling2D(2,2),\n",
        "    tf.keras.layers.Flatten(),\n",
        "    tf.keras.layers.Dense(128,activation='relu'),\n",
        "    tf.keras.layers.Dense(10,activation='softmax')\n",
        "    \n",
        "\n",
        "    \n",
        "])\n",
        "\n",
        "\n",
        "# YOUR CODE STARTS HERE\n",
        "model.compile(optimizer='adam', loss='sparse_categorical_crossentropy', metrics=['accuracy'])\n",
        "model.summary()\n",
        "model.fit(training_images,training_labels,epochs=20)\n",
        "test_loss=model.evaluate(test_images,test_labels)\n",
        "# YOUR CODE ENDS HERE\n",
        "\n"
      ],
      "execution_count": 8,
      "outputs": [
        {
          "output_type": "stream",
          "text": [
            "Model: \"sequential_1\"\n",
            "_________________________________________________________________\n",
            "Layer (type)                 Output Shape              Param #   \n",
            "=================================================================\n",
            "conv2d_2 (Conv2D)            (None, 26, 26, 64)        640       \n",
            "_________________________________________________________________\n",
            "max_pooling2d_2 (MaxPooling2 (None, 13, 13, 64)        0         \n",
            "_________________________________________________________________\n",
            "conv2d_3 (Conv2D)            (None, 12, 12, 64)        16448     \n",
            "_________________________________________________________________\n",
            "max_pooling2d_3 (MaxPooling2 (None, 6, 6, 64)          0         \n",
            "_________________________________________________________________\n",
            "flatten_1 (Flatten)          (None, 2304)              0         \n",
            "_________________________________________________________________\n",
            "dense_2 (Dense)              (None, 128)               295040    \n",
            "_________________________________________________________________\n",
            "dense_3 (Dense)              (None, 10)                1290      \n",
            "=================================================================\n",
            "Total params: 313,418\n",
            "Trainable params: 313,418\n",
            "Non-trainable params: 0\n",
            "_________________________________________________________________\n",
            "Epoch 1/20\n",
            "60000/60000 [==============================] - 66s 1ms/sample - loss: 0.1363 - acc: 0.9577\n",
            "Epoch 2/20\n",
            "60000/60000 [==============================] - 65s 1ms/sample - loss: 0.0448 - acc: 0.9861\n",
            "Epoch 3/20\n",
            "60000/60000 [==============================] - 65s 1ms/sample - loss: 0.0297 - acc: 0.9906\n",
            "Epoch 4/20\n",
            "60000/60000 [==============================] - 65s 1ms/sample - loss: 0.0213 - acc: 0.9931\n",
            "Epoch 5/20\n",
            "60000/60000 [==============================] - 65s 1ms/sample - loss: 0.0167 - acc: 0.9945\n",
            "Epoch 6/20\n",
            "60000/60000 [==============================] - 65s 1ms/sample - loss: 0.0119 - acc: 0.9961\n",
            "Epoch 7/20\n",
            "60000/60000 [==============================] - 65s 1ms/sample - loss: 0.0099 - acc: 0.9966\n",
            "Epoch 8/20\n",
            "60000/60000 [==============================] - 65s 1ms/sample - loss: 0.0082 - acc: 0.9971\n",
            "Epoch 9/20\n",
            "60000/60000 [==============================] - 65s 1ms/sample - loss: 0.0075 - acc: 0.9975\n",
            "Epoch 10/20\n",
            "60000/60000 [==============================] - 65s 1ms/sample - loss: 0.0051 - acc: 0.9982\n",
            "Epoch 11/20\n",
            "60000/60000 [==============================] - 65s 1ms/sample - loss: 0.0070 - acc: 0.9978\n",
            "Epoch 12/20\n",
            "60000/60000 [==============================] - 65s 1ms/sample - loss: 0.0048 - acc: 0.9984\n",
            "Epoch 13/20\n",
            "60000/60000 [==============================] - 65s 1ms/sample - loss: 0.0045 - acc: 0.9984\n",
            "Epoch 14/20\n",
            "60000/60000 [==============================] - 65s 1ms/sample - loss: 0.0041 - acc: 0.9987\n",
            "Epoch 15/20\n",
            "60000/60000 [==============================] - 65s 1ms/sample - loss: 0.0055 - acc: 0.9983\n",
            "Epoch 16/20\n",
            "60000/60000 [==============================] - 65s 1ms/sample - loss: 0.0035 - acc: 0.9987\n",
            "Epoch 17/20\n",
            "60000/60000 [==============================] - 65s 1ms/sample - loss: 0.0038 - acc: 0.9989\n",
            "Epoch 18/20\n",
            "60000/60000 [==============================] - 65s 1ms/sample - loss: 0.0018 - acc: 0.9993\n",
            "Epoch 19/20\n",
            "60000/60000 [==============================] - 65s 1ms/sample - loss: 0.0040 - acc: 0.9986\n",
            "Epoch 20/20\n",
            "60000/60000 [==============================] - 65s 1ms/sample - loss: 0.0030 - acc: 0.9990\n",
            "10000/10000 [==============================] - 3s 332us/sample - loss: 0.0517 - acc: 0.9911\n"
          ],
          "name": "stdout"
        }
      ]
    },
    {
      "cell_type": "code",
      "metadata": {
        "id": "iQ1vtQedYLuX",
        "colab_type": "code",
        "colab": {}
      },
      "source": [
        "predictions=model.predict(test_images)"
      ],
      "execution_count": 0,
      "outputs": []
    },
    {
      "cell_type": "code",
      "metadata": {
        "id": "McRPpBFEgBHQ",
        "colab_type": "code",
        "colab": {
          "base_uri": "https://localhost:8080/",
          "height": 68
        },
        "outputId": "e36683c3-bf48-4d54-b9be-fb39e1bbbf37"
      },
      "source": [
        "predictions[0]"
      ],
      "execution_count": 11,
      "outputs": [
        {
          "output_type": "execute_result",
          "data": {
            "text/plain": [
              "array([1.91220263e-20, 8.68040629e-22, 8.64416180e-21, 1.20936035e-20,\n",
              "       2.53785959e-21, 4.25545045e-22, 2.73233164e-27, 1.00000000e+00,\n",
              "       3.25481253e-21, 7.58874829e-19], dtype=float32)"
            ]
          },
          "metadata": {
            "tags": []
          },
          "execution_count": 11
        }
      ]
    },
    {
      "cell_type": "code",
      "metadata": {
        "id": "v7WTSKXdiC0l",
        "colab_type": "code",
        "colab": {}
      },
      "source": [
        ""
      ],
      "execution_count": 0,
      "outputs": []
    }
  ]
}